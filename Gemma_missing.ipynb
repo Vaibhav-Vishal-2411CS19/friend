{
 "cells": [
  {
   "cell_type": "code",
   "execution_count": 1,
   "id": "a6c439e1-196d-4ba5-b5dd-bf65281affd2",
   "metadata": {},
   "outputs": [],
   "source": [
    "# import os\n",
    "# os.environ['CUDA_VISIBLE_DEVICES']='5'"
   ]
  },
  {
   "cell_type": "code",
   "execution_count": 2,
   "id": "e28464e0-0ebf-4822-83e6-092900be04e9",
   "metadata": {},
   "outputs": [],
   "source": [
    "from datasets import load_dataset\n",
    "dataset = load_dataset(\"zera09/finance_chat\", split = \"test\")"
   ]
  },
  {
   "cell_type": "code",
   "execution_count": 3,
   "id": "1d74ff7e-4a56-46bc-87fd-86095d5ca12d",
   "metadata": {},
   "outputs": [],
   "source": [
    "# from PIL import Image\n",
    "# import random\n",
    "# from tqdm.notebook import tqdm\n",
    "# # Set random seed for reproducibility\n",
    "# random.seed(42)\n",
    "\n",
    "# # Determine indices to set image_path to None (50% of dataset)\n",
    "# total_samples = len(dataset)\n",
    "# exclude_indices = set(random.sample(range(total_samples), total_samples // 2))\n",
    "\n",
    "\n",
    "\n",
    "# # Modify dataset in place\n",
    "# def modify_image_path(example, index):\n",
    "#     if index in exclude_indices:\n",
    "#         example[\"image_path\"] = 'None'\n",
    "#     return example\n",
    "\n",
    "# # Apply modification\n",
    "# dataset = dataset.map(modify_image_path, with_indices=True)\n",
    "\n",
    "# def format_data(sample):\n",
    "#     return [\n",
    "#         {\n",
    "#             \"role\": \"system\",\n",
    "#             \"content\": [{\"type\": \"text\", \"text\": 'You are a finacnial assistant.'}],\n",
    "#         },\n",
    "#         {\n",
    "#             \"role\": \"user\",\n",
    "#             \"content\": [\n",
    "#                 {\n",
    "#                     \"type\": \"image\",\n",
    "#                     \"image\":Image.open('/home/sarmistha/Sarmistha/ECML/'+sample['image_path']).resize((255,255)),\n",
    "#                 },\n",
    "#                 {\n",
    "#                     \"type\": \"text\",\n",
    "#                     \"text\": sample[\"query\"],\n",
    "#                 },\n",
    "#             ],\n",
    "#         },\n",
    "#     ],sample['answer']\n",
    "\n",
    "# def format_data_text(sample):\n",
    "#     return [\n",
    "#         {\n",
    "#             \"role\": \"system\",\n",
    "#             \"content\": [{\"type\": \"text\", \"text\": 'You are a finacnial assistant.'}],\n",
    "#         },\n",
    "#         {\n",
    "#             \"role\": \"user\",\n",
    "#             \"content\": [\n",
    "#                 {\n",
    "#                     \"type\": \"text\",\n",
    "#                     \"text\": sample[\"query\"],\n",
    "#                 },\n",
    "#             ],\n",
    "#         },\n",
    "        \n",
    "#     ],sample['answer']\n",
    "\n",
    "\n",
    "\n",
    "# labels =[]\n",
    "# test_dataset = [ ]\n",
    "# for sample in tqdm(dataset):\n",
    "#     if os.path.exists('/home/sarmistha/Sarmistha/ECML/'+sample['image_path']):\n",
    "#         conv,label = format_data(sample)\n",
    "#         test_dataset.append(conv)\n",
    "#         labels.append(label)\n",
    "#     else:\n",
    "#         conv,label = format_data_text(sample)\n",
    "#         test_dataset.append(conv)\n",
    "#         labels.append(label)"
   ]
  },
  {
   "cell_type": "code",
   "execution_count": 4,
   "id": "f9445772-b07e-4c15-8acc-c695695a8087",
   "metadata": {},
   "outputs": [
    {
     "data": {
      "application/vnd.jupyter.widget-view+json": {
       "model_id": "a49450894918410da792a6b21efbbe24",
       "version_major": 2,
       "version_minor": 0
      },
      "text/plain": [
       "  0%|          | 0/515 [00:00<?, ?it/s]"
      ]
     },
     "metadata": {},
     "output_type": "display_data"
    }
   ],
   "source": [
    "import os\n",
    "import random\n",
    "from PIL import Image\n",
    "from tqdm.notebook import tqdm\n",
    "\n",
    "# Set random seed for reproducibility\n",
    "random.seed(42)\n",
    "\n",
    "# Determine indices to set image_path to None (50% of dataset)\n",
    "total_samples = len(dataset)\n",
    "exclude_indices = set(random.sample(range(total_samples), total_samples // 2))\n",
    "\n",
    "# Modify dataset in place\n",
    "def modify_image_path(example, index):\n",
    "    if index in exclude_indices:\n",
    "        example[\"image_path\"] = 'None'\n",
    "    return example\n",
    "\n",
    "# Apply modification\n",
    "dataset = dataset.map(modify_image_path, with_indices=True)\n",
    "\n",
    "# Define formatting functions\n",
    "def format_data(sample):\n",
    "    return [\n",
    "        {\n",
    "            \"role\": \"system\",\n",
    "            \"content\": [{\"type\": \"text\", \"text\": 'You are a financial assistant.'}],\n",
    "        },\n",
    "        {\n",
    "            \"role\": \"user\",\n",
    "            \"content\": [\n",
    "                {\n",
    "                    \"type\": \"image\",\n",
    "                    \"image\": Image.open('/home/sarmistha/Sarmistha/ECML/' + sample['image_path']).resize((255, 255)),\n",
    "                },\n",
    "                {\n",
    "                    \"type\": \"text\",\n",
    "                    \"text\": sample[\"query\"],\n",
    "                },\n",
    "            ],\n",
    "        },\n",
    "    ], sample['answer']\n",
    "\n",
    "def format_data_text(sample):\n",
    "    return [\n",
    "        {\n",
    "            \"role\": \"system\",\n",
    "            \"content\": [{\"type\": \"text\", \"text\": 'You are a financial assistant.'}],\n",
    "        },\n",
    "        {\n",
    "            \"role\": \"user\",\n",
    "            \"content\": [\n",
    "                {\n",
    "                    \"type\": \"text\",\n",
    "                    \"text\": sample[\"query\"],\n",
    "                },\n",
    "            ],\n",
    "        },\n",
    "    ], sample['answer']\n",
    "\n",
    "# Separate samples into those with and without image modalities\n",
    "image_samples = []\n",
    "text_only_samples = []\n",
    "\n",
    "for sample in tqdm(dataset):\n",
    "    image_path = '/home/sarmistha/Sarmistha/ECML/' + sample['image_path']\n",
    "    if os.path.exists(image_path):\n",
    "        image_samples.append(sample)\n",
    "    else:\n",
    "        text_only_samples.append(sample)\n",
    "\n",
    "# Select 50 from each category\n",
    "selected_image_samples = random.sample(image_samples, min(50, len(image_samples)))\n",
    "selected_text_only_samples = random.sample(text_only_samples, min(50, len(text_only_samples)))\n",
    "\n",
    "# Create test dataset and labels\n",
    "test_dataset = []\n",
    "labels = []\n",
    "\n",
    "for sample in selected_image_samples:\n",
    "    conv, label = format_data(sample)\n",
    "    test_dataset.append(conv)\n",
    "    labels.append(label)\n",
    "\n",
    "for sample in selected_text_only_samples:\n",
    "    conv, label = format_data_text(sample)\n",
    "    test_dataset.append(conv)\n",
    "    labels.append(label)\n"
   ]
  },
  {
   "cell_type": "code",
   "execution_count": 5,
   "id": "5f69504e-de41-4c55-b718-a11ea6f18115",
   "metadata": {},
   "outputs": [
    {
     "data": {
      "application/vnd.jupyter.widget-view+json": {
       "model_id": "c0a5d1dd90b5498d8cfe7dd666c99d6f",
       "version_major": 2,
       "version_minor": 0
      },
      "text/plain": [
       "Loading checkpoint shards:   0%|          | 0/2 [00:00<?, ?it/s]"
      ]
     },
     "metadata": {},
     "output_type": "display_data"
    },
    {
     "name": "stderr",
     "output_type": "stream",
     "text": [
      "Using a slow image processor as `use_fast` is unset and a slow processor was saved with this model. `use_fast=True` will be the default behavior in v4.48, even if the model was saved with a slow processor. This will result in minor differences in outputs. You'll still be able to use a slow processor with `use_fast=False`.\n"
     ]
    }
   ],
   "source": [
    "import torch\n",
    "from transformers import AutoProcessor, Gemma3ForConditionalGeneration\n",
    "\n",
    "model_id = \"google/gemma-3-4b-it\"\n",
    "model =Gemma3ForConditionalGeneration.from_pretrained(\n",
    "    model_id,\n",
    "    device_map=\"auto\",\n",
    "    torch_dtype=torch.bfloat16,\n",
    ")\n",
    "\n",
    "processor = AutoProcessor.from_pretrained(model_id)\n"
   ]
  },
  {
   "cell_type": "code",
   "execution_count": 6,
   "id": "41ee8137-5115-46e2-adfd-e481033d4b3c",
   "metadata": {},
   "outputs": [],
   "source": [
    "# adapter_path = \"zera09/gemma3-fin-chat_missing\"\n",
    "# model.load_adapter(adapter_path)"
   ]
  },
  {
   "cell_type": "code",
   "execution_count": 7,
   "id": "f9616337-12b9-4561-a0f0-e4670c1c9683",
   "metadata": {},
   "outputs": [],
   "source": [
    "from qwen_vl_utils import process_vision_info\n",
    "\n",
    "\n",
    "def generate_text_from_sample(model, processor, sample, max_new_tokens=256, device=\"cuda\"):\n",
    "    # Prepare the text input by applying the chat template\n",
    "    inputs = processor.apply_chat_template(\n",
    "        sample, add_generation_prompt=True, tokenize=True,\n",
    "        return_dict=True, return_tensors=\"pt\"\n",
    "    ).to(model.device, dtype=torch.bfloat16)\n",
    "    \n",
    "    input_len = inputs[\"input_ids\"].shape[-1]\n",
    "    \n",
    "    with torch.inference_mode():\n",
    "        generation = model.generate(**inputs, max_new_tokens=150, do_sample=False)\n",
    "        generation = generation[0][input_len:]\n",
    "    \n",
    "    decoded = processor.decode(generation, skip_special_tokens=True)\n",
    "    return decoded "
   ]
  },
  {
   "cell_type": "code",
   "execution_count": 8,
   "id": "d4290d1f-f6fc-4fd9-8f62-d761803c12ea",
   "metadata": {},
   "outputs": [
    {
     "data": {
      "application/vnd.jupyter.widget-view+json": {
       "model_id": "00ebfb09e35c49ce9a8bc4f25e90cc18",
       "version_major": 2,
       "version_minor": 0
      },
      "text/plain": [
       "  0%|          | 0/100 [00:00<?, ?it/s]"
      ]
     },
     "metadata": {},
     "output_type": "display_data"
    },
    {
     "name": "stderr",
     "output_type": "stream",
     "text": [
      "/home/sarmistha/miniconda3/envs/slomvlm/lib/python3.9/site-packages/transformers/generation/configuration_utils.py:634: UserWarning: `do_sample` is set to `False`. However, `top_p` is set to `0.95` -- this flag is only used in sample-based generation modes. You should set `do_sample=True` or unset `top_p`.\n",
      "  warnings.warn(\n",
      "/home/sarmistha/miniconda3/envs/slomvlm/lib/python3.9/site-packages/transformers/generation/configuration_utils.py:651: UserWarning: `do_sample` is set to `False`. However, `top_k` is set to `64` -- this flag is only used in sample-based generation modes. You should set `do_sample=True` or unset `top_k`.\n",
      "  warnings.warn(\n"
     ]
    }
   ],
   "source": [
    "def generate_text_for_all(model, processor, test_dataset):\n",
    "    outputs = []\n",
    "    for sample in tqdm(test_dataset):\n",
    "        output = generate_text_from_sample(model, processor, sample)\n",
    "        outputs.append(output)\n",
    "    return outputs\n",
    "\n",
    "# Example usage:\n",
    "all_outputs = generate_text_for_all(model, processor, test_dataset)\n"
   ]
  },
  {
   "cell_type": "code",
   "execution_count": 9,
   "id": "b270867f-72fe-4c4b-b78c-de0d22568ca0",
   "metadata": {},
   "outputs": [],
   "source": [
    "import json\n",
    "\n",
    "ans = {'pred': all_outputs, 'label': labels}\n",
    "\n",
    "with open('gemma_missing_zero.json', 'w') as f:\n",
    "    json.dump(ans, f)\n"
   ]
  },
  {
   "cell_type": "code",
   "execution_count": null,
   "id": "10551f83-fda4-4055-9ac7-46faecd32485",
   "metadata": {},
   "outputs": [],
   "source": []
  }
 ],
 "metadata": {
  "kernelspec": {
   "display_name": "Python (slomvlm)",
   "language": "python",
   "name": "slomvlm"
  },
  "language_info": {
   "codemirror_mode": {
    "name": "ipython",
    "version": 3
   },
   "file_extension": ".py",
   "mimetype": "text/x-python",
   "name": "python",
   "nbconvert_exporter": "python",
   "pygments_lexer": "ipython3",
   "version": "3.9.20"
  }
 },
 "nbformat": 4,
 "nbformat_minor": 5
}
